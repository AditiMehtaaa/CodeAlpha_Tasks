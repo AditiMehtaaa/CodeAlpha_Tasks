{
 "cells": [
  {
   "cell_type": "markdown",
   "id": "968a5c11",
   "metadata": {},
   "source": [
    "## Taking Tesla Stock Price\n",
    "importing needed libraries"
   ]
  },
  {
   "cell_type": "code",
   "execution_count": 1,
   "id": "4360fed4",
   "metadata": {},
   "outputs": [],
   "source": [
    "import numpy as np\n",
    "import pandas as pd\n",
    "from keras.models import Sequential\n",
    "from keras.layers import LSTM, Dense\n",
    "from sklearn.preprocessing import MinMaxScaler"
   ]
  },
  {
   "cell_type": "code",
   "execution_count": 2,
   "id": "6592c68a",
   "metadata": {},
   "outputs": [],
   "source": [
    "from keras.layers import Dropout, Bidirectional"
   ]
  },
  {
   "cell_type": "markdown",
   "id": "bdeceaef",
   "metadata": {},
   "source": [
    "Loading of stocks dataset"
   ]
  },
  {
   "cell_type": "code",
   "execution_count": 3,
   "id": "8427624b",
   "metadata": {},
   "outputs": [],
   "source": [
    "data = pd.read_csv('C:/Users/Lenovo/Downloads/tesla-stock-price.csv')"
   ]
  },
  {
   "cell_type": "markdown",
   "id": "b901401c",
   "metadata": {},
   "source": [
    "reading the dataset "
   ]
  },
  {
   "cell_type": "code",
   "execution_count": 4,
   "id": "01de58c7",
   "metadata": {},
   "outputs": [
    {
     "data": {
      "text/html": [
       "<div>\n",
       "<style scoped>\n",
       "    .dataframe tbody tr th:only-of-type {\n",
       "        vertical-align: middle;\n",
       "    }\n",
       "\n",
       "    .dataframe tbody tr th {\n",
       "        vertical-align: top;\n",
       "    }\n",
       "\n",
       "    .dataframe thead th {\n",
       "        text-align: right;\n",
       "    }\n",
       "</style>\n",
       "<table border=\"1\" class=\"dataframe\">\n",
       "  <thead>\n",
       "    <tr style=\"text-align: right;\">\n",
       "      <th></th>\n",
       "      <th>date</th>\n",
       "      <th>close</th>\n",
       "      <th>volume</th>\n",
       "      <th>open</th>\n",
       "      <th>high</th>\n",
       "      <th>low</th>\n",
       "    </tr>\n",
       "  </thead>\n",
       "  <tbody>\n",
       "    <tr>\n",
       "      <th>0</th>\n",
       "      <td>11:34</td>\n",
       "      <td>270.49</td>\n",
       "      <td>4,787,699</td>\n",
       "      <td>264.50</td>\n",
       "      <td>273.88</td>\n",
       "      <td>262.2400</td>\n",
       "    </tr>\n",
       "    <tr>\n",
       "      <th>1</th>\n",
       "      <td>2018/10/15</td>\n",
       "      <td>259.59</td>\n",
       "      <td>6189026.0000</td>\n",
       "      <td>259.06</td>\n",
       "      <td>263.28</td>\n",
       "      <td>254.5367</td>\n",
       "    </tr>\n",
       "    <tr>\n",
       "      <th>2</th>\n",
       "      <td>2018/10/12</td>\n",
       "      <td>258.78</td>\n",
       "      <td>7189257.0000</td>\n",
       "      <td>261.00</td>\n",
       "      <td>261.99</td>\n",
       "      <td>252.0100</td>\n",
       "    </tr>\n",
       "    <tr>\n",
       "      <th>3</th>\n",
       "      <td>2018/10/11</td>\n",
       "      <td>252.23</td>\n",
       "      <td>8128184.0000</td>\n",
       "      <td>257.53</td>\n",
       "      <td>262.25</td>\n",
       "      <td>249.0300</td>\n",
       "    </tr>\n",
       "    <tr>\n",
       "      <th>4</th>\n",
       "      <td>2018/10/10</td>\n",
       "      <td>256.88</td>\n",
       "      <td>12781560.0000</td>\n",
       "      <td>264.61</td>\n",
       "      <td>265.51</td>\n",
       "      <td>247.7700</td>\n",
       "    </tr>\n",
       "  </tbody>\n",
       "</table>\n",
       "</div>"
      ],
      "text/plain": [
       "         date   close         volume    open    high       low\n",
       "0       11:34  270.49      4,787,699  264.50  273.88  262.2400\n",
       "1  2018/10/15  259.59   6189026.0000  259.06  263.28  254.5367\n",
       "2  2018/10/12  258.78   7189257.0000  261.00  261.99  252.0100\n",
       "3  2018/10/11  252.23   8128184.0000  257.53  262.25  249.0300\n",
       "4  2018/10/10  256.88  12781560.0000  264.61  265.51  247.7700"
      ]
     },
     "execution_count": 4,
     "metadata": {},
     "output_type": "execute_result"
    }
   ],
   "source": [
    "data.head()"
   ]
  },
  {
   "cell_type": "code",
   "execution_count": 5,
   "id": "eb724cca",
   "metadata": {},
   "outputs": [
    {
     "data": {
      "text/plain": [
       "(757, 6)"
      ]
     },
     "execution_count": 5,
     "metadata": {},
     "output_type": "execute_result"
    }
   ],
   "source": [
    "# data.isnull().sum()\n",
    "data.shape"
   ]
  },
  {
   "cell_type": "code",
   "execution_count": 6,
   "id": "fa741277",
   "metadata": {},
   "outputs": [
    {
     "name": "stdout",
     "output_type": "stream",
     "text": [
      "<class 'pandas.core.frame.DataFrame'>\n",
      "RangeIndex: 757 entries, 0 to 756\n",
      "Data columns (total 6 columns):\n",
      " #   Column  Non-Null Count  Dtype  \n",
      "---  ------  --------------  -----  \n",
      " 0   date    757 non-null    object \n",
      " 1   close   757 non-null    float64\n",
      " 2   volume  757 non-null    object \n",
      " 3   open    757 non-null    float64\n",
      " 4   high    757 non-null    float64\n",
      " 5   low     757 non-null    float64\n",
      "dtypes: float64(4), object(2)\n",
      "memory usage: 35.6+ KB\n"
     ]
    }
   ],
   "source": [
    "data.info()"
   ]
  },
  {
   "cell_type": "markdown",
   "id": "089fe970",
   "metadata": {},
   "source": [
    "### observation:\n",
    "There are 757 entries and 6 columns in this stock price dataset of Tesla.\n",
    "leaving 2 object type columns, all others are float."
   ]
  },
  {
   "cell_type": "code",
   "execution_count": 32,
   "id": "15b054f6",
   "metadata": {},
   "outputs": [],
   "source": [
    "# data.sort_values(by='high', ascending=False).head()"
   ]
  },
  {
   "cell_type": "markdown",
   "id": "bee1f887",
   "metadata": {},
   "source": [
    "Replacing some of the characters in the dataset which occur to be string by float type"
   ]
  },
  {
   "cell_type": "code",
   "execution_count": null,
   "id": "18b7abe3",
   "metadata": {},
   "outputs": [],
   "source": [
    "data['volume'] = data['volume'].str.replace(',','').astype(float)"
   ]
  },
  {
   "cell_type": "code",
   "execution_count": 9,
   "id": "bc91e23b",
   "metadata": {},
   "outputs": [],
   "source": [
    "# data\n",
    "# Convert date column to datetime format\n",
    "data['date'] = pd.to_datetime(data['date'])\n",
    "\n",
    "# Convert volume column to float type\n",
    "data['volume'] = data['volume'].astype(float)"
   ]
  },
  {
   "cell_type": "code",
   "execution_count": 10,
   "id": "95d5488d",
   "metadata": {},
   "outputs": [],
   "source": [
    "#use the datetime as the index of dataframe, \n",
    "#to use it as a time series data\n",
    "data.set_index('date', inplace=True)"
   ]
  },
  {
   "cell_type": "markdown",
   "id": "cc339df2",
   "metadata": {},
   "source": [
    "converting the data columns into one type so as to be easy to apply the `fit_transform method` for preprocessing the data"
   ]
  },
  {
   "cell_type": "code",
   "execution_count": 11,
   "id": "cb559d6f",
   "metadata": {},
   "outputs": [],
   "source": [
    "# Preprocess the data\n",
    "Ms = MinMaxScaler()\n",
    "data['volume'] = Ms.fit_transform(data[['volume']])\n",
    "data [data.columns] = Ms.fit_transform(data)"
   ]
  },
  {
   "cell_type": "code",
   "execution_count": 12,
   "id": "646879a9",
   "metadata": {},
   "outputs": [
    {
     "data": {
      "text/html": [
       "<div>\n",
       "<style scoped>\n",
       "    .dataframe tbody tr th:only-of-type {\n",
       "        vertical-align: middle;\n",
       "    }\n",
       "\n",
       "    .dataframe tbody tr th {\n",
       "        vertical-align: top;\n",
       "    }\n",
       "\n",
       "    .dataframe thead th {\n",
       "        text-align: right;\n",
       "    }\n",
       "</style>\n",
       "<table border=\"1\" class=\"dataframe\">\n",
       "  <thead>\n",
       "    <tr style=\"text-align: right;\">\n",
       "      <th></th>\n",
       "      <th>close</th>\n",
       "      <th>volume</th>\n",
       "      <th>open</th>\n",
       "      <th>high</th>\n",
       "      <th>low</th>\n",
       "    </tr>\n",
       "    <tr>\n",
       "      <th>date</th>\n",
       "      <th></th>\n",
       "      <th></th>\n",
       "      <th></th>\n",
       "      <th></th>\n",
       "      <th></th>\n",
       "    </tr>\n",
       "  </thead>\n",
       "  <tbody>\n",
       "    <tr>\n",
       "      <th>2024-02-15 11:34:00</th>\n",
       "      <td>0.525504</td>\n",
       "      <td>0.123983</td>\n",
       "      <td>0.499980</td>\n",
       "      <td>0.506776</td>\n",
       "      <td>0.508571</td>\n",
       "    </tr>\n",
       "    <tr>\n",
       "      <th>2018-10-15 00:00:00</th>\n",
       "      <td>0.480338</td>\n",
       "      <td>0.166593</td>\n",
       "      <td>0.477718</td>\n",
       "      <td>0.461601</td>\n",
       "      <td>0.476245</td>\n",
       "    </tr>\n",
       "    <tr>\n",
       "      <th>2018-10-12 00:00:00</th>\n",
       "      <td>0.476982</td>\n",
       "      <td>0.197007</td>\n",
       "      <td>0.485657</td>\n",
       "      <td>0.456103</td>\n",
       "      <td>0.465641</td>\n",
       "    </tr>\n",
       "    <tr>\n",
       "      <th>2018-10-11 00:00:00</th>\n",
       "      <td>0.449840</td>\n",
       "      <td>0.225557</td>\n",
       "      <td>0.471457</td>\n",
       "      <td>0.457211</td>\n",
       "      <td>0.453136</td>\n",
       "    </tr>\n",
       "    <tr>\n",
       "      <th>2018-10-10 00:00:00</th>\n",
       "      <td>0.469109</td>\n",
       "      <td>0.367053</td>\n",
       "      <td>0.500430</td>\n",
       "      <td>0.471105</td>\n",
       "      <td>0.447848</td>\n",
       "    </tr>\n",
       "  </tbody>\n",
       "</table>\n",
       "</div>"
      ],
      "text/plain": [
       "                        close    volume      open      high       low\n",
       "date                                                                 \n",
       "2024-02-15 11:34:00  0.525504  0.123983  0.499980  0.506776  0.508571\n",
       "2018-10-15 00:00:00  0.480338  0.166593  0.477718  0.461601  0.476245\n",
       "2018-10-12 00:00:00  0.476982  0.197007  0.485657  0.456103  0.465641\n",
       "2018-10-11 00:00:00  0.449840  0.225557  0.471457  0.457211  0.453136\n",
       "2018-10-10 00:00:00  0.469109  0.367053  0.500430  0.471105  0.447848"
      ]
     },
     "execution_count": 12,
     "metadata": {},
     "output_type": "execute_result"
    }
   ],
   "source": [
    "data.head()"
   ]
  },
  {
   "cell_type": "markdown",
   "id": "176fb011",
   "metadata": {},
   "source": [
    "### Splitting of Data into training and testing sets"
   ]
  },
  {
   "cell_type": "code",
   "execution_count": 13,
   "id": "e8130ab8",
   "metadata": {},
   "outputs": [],
   "source": [
    "# Split the data into training and testing sets\n",
    "train_size = int(len(data) * 0.7)\n",
    "# test_size = len(data) - train_size\n",
    "train_data, test_data = data[0:train_size], data[train_size:]"
   ]
  },
  {
   "cell_type": "markdown",
   "id": "6b88d929",
   "metadata": {},
   "source": [
    "#### Creating sequences and Labels "
   ]
  },
  {
   "cell_type": "code",
   "execution_count": 14,
   "id": "07075d9a",
   "metadata": {},
   "outputs": [],
   "source": [
    "# Create sequences and labels for training\n",
    "def create_sequence(dataset):\n",
    "    sequences = []\n",
    "    label = []\n",
    "    start_idx = 0\n",
    "    for stop_idx in range(50, len(dataset)):\n",
    "        sequences.append(dataset.iloc[start_idx:stop_idx])\n",
    "        label.append(dataset.iloc[stop_idx])\n",
    "        start_idx +=1\n",
    "    return (np.array(sequences), np.array(label))\n"
   ]
  },
  {
   "cell_type": "code",
   "execution_count": 15,
   "id": "aa52ddd3",
   "metadata": {},
   "outputs": [],
   "source": [
    "train_seq, train_label = create_sequence(train_data)\n",
    "test_seq, test_label = create_sequence(test_data)"
   ]
  },
  {
   "cell_type": "markdown",
   "id": "0d8a49c0",
   "metadata": {},
   "source": [
    "#### Building the LSTM model"
   ]
  },
  {
   "cell_type": "code",
   "execution_count": 16,
   "id": "9de6a434",
   "metadata": {},
   "outputs": [],
   "source": [
    "# Build the LSTM model\n",
    "model = Sequential()\n",
    "model.add(LSTM(units=50, return_sequences=True, input_shape=(train_seq.shape[1], train_seq.shape[2])))\n",
    "model.add(Dropout(0.1))\n",
    "model.add(LSTM(units=50))\n",
    "model.add(Dense(5))\n"
   ]
  },
  {
   "cell_type": "code",
   "execution_count": 17,
   "id": "6724b57e",
   "metadata": {},
   "outputs": [],
   "source": [
    "#compile model\n",
    "model.compile(loss='mean_squared_error',optimizer='adam', metrics=['mean_absolute_error'])"
   ]
  },
  {
   "cell_type": "markdown",
   "id": "d20eaaeb",
   "metadata": {},
   "source": [
    "#### Training the model"
   ]
  },
  {
   "cell_type": "code",
   "execution_count": 18,
   "id": "7eff3f67",
   "metadata": {},
   "outputs": [
    {
     "name": "stdout",
     "output_type": "stream",
     "text": [
      "Epoch 1/80\n",
      "15/15 [==============================] - 20s 405ms/step - loss: 0.1258 - mean_absolute_error: 0.2549 - val_loss: 0.0311 - val_mean_absolute_error: 0.1375\n",
      "Epoch 2/80\n",
      "15/15 [==============================] - 4s 276ms/step - loss: 0.0161 - mean_absolute_error: 0.1011 - val_loss: 0.0083 - val_mean_absolute_error: 0.0692\n",
      "Epoch 3/80\n",
      "15/15 [==============================] - 4s 244ms/step - loss: 0.0098 - mean_absolute_error: 0.0785 - val_loss: 0.0085 - val_mean_absolute_error: 0.0713\n",
      "Epoch 4/80\n",
      "15/15 [==============================] - 4s 285ms/step - loss: 0.0077 - mean_absolute_error: 0.0680 - val_loss: 0.0059 - val_mean_absolute_error: 0.0592\n",
      "Epoch 5/80\n",
      "15/15 [==============================] - 4s 242ms/step - loss: 0.0070 - mean_absolute_error: 0.0644 - val_loss: 0.0055 - val_mean_absolute_error: 0.0573\n",
      "Epoch 6/80\n",
      "15/15 [==============================] - 4s 262ms/step - loss: 0.0065 - mean_absolute_error: 0.0613 - val_loss: 0.0052 - val_mean_absolute_error: 0.0563\n",
      "Epoch 7/80\n",
      "15/15 [==============================] - 3s 196ms/step - loss: 0.0065 - mean_absolute_error: 0.0614 - val_loss: 0.0050 - val_mean_absolute_error: 0.0559\n",
      "Epoch 8/80\n",
      "15/15 [==============================] - 3s 195ms/step - loss: 0.0067 - mean_absolute_error: 0.0622 - val_loss: 0.0049 - val_mean_absolute_error: 0.0538\n",
      "Epoch 9/80\n",
      "15/15 [==============================] - 3s 190ms/step - loss: 0.0068 - mean_absolute_error: 0.0620 - val_loss: 0.0048 - val_mean_absolute_error: 0.0546\n",
      "Epoch 10/80\n",
      "15/15 [==============================] - 3s 199ms/step - loss: 0.0065 - mean_absolute_error: 0.0606 - val_loss: 0.0047 - val_mean_absolute_error: 0.0531\n",
      "Epoch 11/80\n",
      "15/15 [==============================] - 6s 441ms/step - loss: 0.0063 - mean_absolute_error: 0.0597 - val_loss: 0.0046 - val_mean_absolute_error: 0.0531\n",
      "Epoch 12/80\n",
      "15/15 [==============================] - 8s 505ms/step - loss: 0.0058 - mean_absolute_error: 0.0571 - val_loss: 0.0045 - val_mean_absolute_error: 0.0526\n",
      "Epoch 13/80\n",
      "15/15 [==============================] - 5s 332ms/step - loss: 0.0059 - mean_absolute_error: 0.0577 - val_loss: 0.0045 - val_mean_absolute_error: 0.0522\n",
      "Epoch 14/80\n",
      "15/15 [==============================] - 3s 216ms/step - loss: 0.0057 - mean_absolute_error: 0.0574 - val_loss: 0.0044 - val_mean_absolute_error: 0.0512\n",
      "Epoch 15/80\n",
      "15/15 [==============================] - 3s 231ms/step - loss: 0.0055 - mean_absolute_error: 0.0552 - val_loss: 0.0044 - val_mean_absolute_error: 0.0514\n",
      "Epoch 16/80\n",
      "15/15 [==============================] - 3s 204ms/step - loss: 0.0054 - mean_absolute_error: 0.0550 - val_loss: 0.0044 - val_mean_absolute_error: 0.0514\n",
      "Epoch 17/80\n",
      "15/15 [==============================] - 4s 239ms/step - loss: 0.0055 - mean_absolute_error: 0.0557 - val_loss: 0.0043 - val_mean_absolute_error: 0.0511\n",
      "Epoch 18/80\n",
      "15/15 [==============================] - 3s 203ms/step - loss: 0.0054 - mean_absolute_error: 0.0543 - val_loss: 0.0042 - val_mean_absolute_error: 0.0496\n",
      "Epoch 19/80\n",
      "15/15 [==============================] - 3s 230ms/step - loss: 0.0054 - mean_absolute_error: 0.0540 - val_loss: 0.0042 - val_mean_absolute_error: 0.0486\n",
      "Epoch 20/80\n",
      "15/15 [==============================] - 3s 200ms/step - loss: 0.0053 - mean_absolute_error: 0.0535 - val_loss: 0.0041 - val_mean_absolute_error: 0.0483\n",
      "Epoch 21/80\n",
      "15/15 [==============================] - 3s 224ms/step - loss: 0.0053 - mean_absolute_error: 0.0535 - val_loss: 0.0041 - val_mean_absolute_error: 0.0482\n",
      "Epoch 22/80\n",
      "15/15 [==============================] - 3s 212ms/step - loss: 0.0049 - mean_absolute_error: 0.0508 - val_loss: 0.0040 - val_mean_absolute_error: 0.0483\n",
      "Epoch 23/80\n",
      "15/15 [==============================] - 4s 273ms/step - loss: 0.0047 - mean_absolute_error: 0.0505 - val_loss: 0.0039 - val_mean_absolute_error: 0.0483\n",
      "Epoch 24/80\n",
      "15/15 [==============================] - 3s 217ms/step - loss: 0.0050 - mean_absolute_error: 0.0518 - val_loss: 0.0039 - val_mean_absolute_error: 0.0475\n",
      "Epoch 25/80\n",
      "15/15 [==============================] - 3s 209ms/step - loss: 0.0047 - mean_absolute_error: 0.0505 - val_loss: 0.0038 - val_mean_absolute_error: 0.0464\n",
      "Epoch 26/80\n",
      "15/15 [==============================] - 3s 201ms/step - loss: 0.0045 - mean_absolute_error: 0.0493 - val_loss: 0.0038 - val_mean_absolute_error: 0.0459\n",
      "Epoch 27/80\n",
      "15/15 [==============================] - 4s 256ms/step - loss: 0.0045 - mean_absolute_error: 0.0489 - val_loss: 0.0038 - val_mean_absolute_error: 0.0461\n",
      "Epoch 28/80\n",
      "15/15 [==============================] - 5s 315ms/step - loss: 0.0044 - mean_absolute_error: 0.0482 - val_loss: 0.0037 - val_mean_absolute_error: 0.0454\n",
      "Epoch 29/80\n",
      "15/15 [==============================] - 5s 348ms/step - loss: 0.0041 - mean_absolute_error: 0.0467 - val_loss: 0.0037 - val_mean_absolute_error: 0.0455\n",
      "Epoch 30/80\n",
      "15/15 [==============================] - 5s 326ms/step - loss: 0.0043 - mean_absolute_error: 0.0477 - val_loss: 0.0036 - val_mean_absolute_error: 0.0446\n",
      "Epoch 31/80\n",
      "15/15 [==============================] - 3s 220ms/step - loss: 0.0042 - mean_absolute_error: 0.0469 - val_loss: 0.0036 - val_mean_absolute_error: 0.0437\n",
      "Epoch 32/80\n",
      "15/15 [==============================] - 3s 217ms/step - loss: 0.0041 - mean_absolute_error: 0.0463 - val_loss: 0.0035 - val_mean_absolute_error: 0.0438\n",
      "Epoch 33/80\n",
      "15/15 [==============================] - 4s 240ms/step - loss: 0.0040 - mean_absolute_error: 0.0460 - val_loss: 0.0035 - val_mean_absolute_error: 0.0447\n",
      "Epoch 34/80\n",
      "15/15 [==============================] - 4s 251ms/step - loss: 0.0042 - mean_absolute_error: 0.0469 - val_loss: 0.0034 - val_mean_absolute_error: 0.0438\n",
      "Epoch 35/80\n",
      "15/15 [==============================] - 5s 311ms/step - loss: 0.0039 - mean_absolute_error: 0.0448 - val_loss: 0.0035 - val_mean_absolute_error: 0.0431\n",
      "Epoch 36/80\n",
      "15/15 [==============================] - 3s 208ms/step - loss: 0.0040 - mean_absolute_error: 0.0452 - val_loss: 0.0034 - val_mean_absolute_error: 0.0426\n",
      "Epoch 37/80\n",
      "15/15 [==============================] - 3s 228ms/step - loss: 0.0039 - mean_absolute_error: 0.0452 - val_loss: 0.0034 - val_mean_absolute_error: 0.0432\n",
      "Epoch 38/80\n",
      "15/15 [==============================] - 3s 214ms/step - loss: 0.0037 - mean_absolute_error: 0.0440 - val_loss: 0.0033 - val_mean_absolute_error: 0.0431\n",
      "Epoch 39/80\n",
      "15/15 [==============================] - 3s 215ms/step - loss: 0.0037 - mean_absolute_error: 0.0431 - val_loss: 0.0034 - val_mean_absolute_error: 0.0436\n",
      "Epoch 40/80\n",
      "15/15 [==============================] - 4s 269ms/step - loss: 0.0038 - mean_absolute_error: 0.0448 - val_loss: 0.0034 - val_mean_absolute_error: 0.0434\n",
      "Epoch 41/80\n",
      "15/15 [==============================] - 3s 227ms/step - loss: 0.0038 - mean_absolute_error: 0.0450 - val_loss: 0.0033 - val_mean_absolute_error: 0.0410\n",
      "Epoch 42/80\n",
      "15/15 [==============================] - 4s 270ms/step - loss: 0.0040 - mean_absolute_error: 0.0454 - val_loss: 0.0033 - val_mean_absolute_error: 0.0420\n",
      "Epoch 43/80\n",
      "15/15 [==============================] - 6s 413ms/step - loss: 0.0041 - mean_absolute_error: 0.0469 - val_loss: 0.0033 - val_mean_absolute_error: 0.0428\n",
      "Epoch 44/80\n",
      "15/15 [==============================] - 3s 215ms/step - loss: 0.0038 - mean_absolute_error: 0.0444 - val_loss: 0.0033 - val_mean_absolute_error: 0.0428\n",
      "Epoch 45/80\n",
      "15/15 [==============================] - 7s 503ms/step - loss: 0.0037 - mean_absolute_error: 0.0437 - val_loss: 0.0033 - val_mean_absolute_error: 0.0431\n",
      "Epoch 46/80\n",
      "15/15 [==============================] - 5s 314ms/step - loss: 0.0037 - mean_absolute_error: 0.0439 - val_loss: 0.0031 - val_mean_absolute_error: 0.0406\n",
      "Epoch 47/80\n",
      "15/15 [==============================] - 3s 212ms/step - loss: 0.0036 - mean_absolute_error: 0.0425 - val_loss: 0.0031 - val_mean_absolute_error: 0.0398\n",
      "Epoch 48/80\n",
      "15/15 [==============================] - 4s 236ms/step - loss: 0.0038 - mean_absolute_error: 0.0442 - val_loss: 0.0032 - val_mean_absolute_error: 0.0412\n",
      "Epoch 49/80\n",
      "15/15 [==============================] - 3s 207ms/step - loss: 0.0037 - mean_absolute_error: 0.0435 - val_loss: 0.0030 - val_mean_absolute_error: 0.0400\n",
      "Epoch 50/80\n",
      "15/15 [==============================] - 4s 249ms/step - loss: 0.0034 - mean_absolute_error: 0.0419 - val_loss: 0.0030 - val_mean_absolute_error: 0.0400\n",
      "Epoch 51/80\n",
      "15/15 [==============================] - 3s 172ms/step - loss: 0.0034 - mean_absolute_error: 0.0416 - val_loss: 0.0031 - val_mean_absolute_error: 0.0408\n",
      "Epoch 52/80\n",
      "15/15 [==============================] - 3s 195ms/step - loss: 0.0033 - mean_absolute_error: 0.0409 - val_loss: 0.0030 - val_mean_absolute_error: 0.0391\n",
      "Epoch 53/80\n",
      "15/15 [==============================] - 3s 173ms/step - loss: 0.0035 - mean_absolute_error: 0.0417 - val_loss: 0.0030 - val_mean_absolute_error: 0.0394\n",
      "Epoch 54/80\n",
      "15/15 [==============================] - 3s 176ms/step - loss: 0.0033 - mean_absolute_error: 0.0406 - val_loss: 0.0031 - val_mean_absolute_error: 0.0399\n",
      "Epoch 55/80\n",
      "15/15 [==============================] - 3s 172ms/step - loss: 0.0035 - mean_absolute_error: 0.0427 - val_loss: 0.0029 - val_mean_absolute_error: 0.0390\n",
      "Epoch 56/80\n",
      "15/15 [==============================] - 3s 175ms/step - loss: 0.0033 - mean_absolute_error: 0.0412 - val_loss: 0.0030 - val_mean_absolute_error: 0.0390\n",
      "Epoch 57/80\n",
      "15/15 [==============================] - 3s 176ms/step - loss: 0.0033 - mean_absolute_error: 0.0418 - val_loss: 0.0029 - val_mean_absolute_error: 0.0375\n",
      "Epoch 58/80\n",
      "15/15 [==============================] - 2s 154ms/step - loss: 0.0033 - mean_absolute_error: 0.0405 - val_loss: 0.0029 - val_mean_absolute_error: 0.0382\n",
      "Epoch 59/80\n",
      "15/15 [==============================] - 3s 170ms/step - loss: 0.0032 - mean_absolute_error: 0.0396 - val_loss: 0.0028 - val_mean_absolute_error: 0.0387\n",
      "Epoch 60/80\n",
      "15/15 [==============================] - 3s 179ms/step - loss: 0.0031 - mean_absolute_error: 0.0389 - val_loss: 0.0028 - val_mean_absolute_error: 0.0380\n",
      "Epoch 61/80\n",
      "15/15 [==============================] - 3s 197ms/step - loss: 0.0030 - mean_absolute_error: 0.0382 - val_loss: 0.0028 - val_mean_absolute_error: 0.0379\n",
      "Epoch 62/80\n",
      "15/15 [==============================] - 3s 173ms/step - loss: 0.0032 - mean_absolute_error: 0.0402 - val_loss: 0.0030 - val_mean_absolute_error: 0.0395\n",
      "Epoch 63/80\n",
      "15/15 [==============================] - 3s 179ms/step - loss: 0.0032 - mean_absolute_error: 0.0405 - val_loss: 0.0028 - val_mean_absolute_error: 0.0369\n",
      "Epoch 64/80\n",
      "15/15 [==============================] - 3s 169ms/step - loss: 0.0031 - mean_absolute_error: 0.0396 - val_loss: 0.0028 - val_mean_absolute_error: 0.0366\n",
      "Epoch 65/80\n",
      "15/15 [==============================] - 3s 183ms/step - loss: 0.0031 - mean_absolute_error: 0.0391 - val_loss: 0.0027 - val_mean_absolute_error: 0.0362\n",
      "Epoch 66/80\n",
      "15/15 [==============================] - 3s 191ms/step - loss: 0.0030 - mean_absolute_error: 0.0385 - val_loss: 0.0027 - val_mean_absolute_error: 0.0365\n",
      "Epoch 67/80\n",
      "15/15 [==============================] - 3s 183ms/step - loss: 0.0029 - mean_absolute_error: 0.0375 - val_loss: 0.0027 - val_mean_absolute_error: 0.0374\n",
      "Epoch 68/80\n",
      "15/15 [==============================] - 3s 184ms/step - loss: 0.0031 - mean_absolute_error: 0.0395 - val_loss: 0.0027 - val_mean_absolute_error: 0.0371\n",
      "Epoch 69/80\n",
      "15/15 [==============================] - 3s 200ms/step - loss: 0.0032 - mean_absolute_error: 0.0401 - val_loss: 0.0026 - val_mean_absolute_error: 0.0359\n",
      "Epoch 70/80\n",
      "15/15 [==============================] - 3s 181ms/step - loss: 0.0029 - mean_absolute_error: 0.0384 - val_loss: 0.0028 - val_mean_absolute_error: 0.0373\n",
      "Epoch 71/80\n",
      "15/15 [==============================] - 3s 179ms/step - loss: 0.0029 - mean_absolute_error: 0.0381 - val_loss: 0.0027 - val_mean_absolute_error: 0.0367\n",
      "Epoch 72/80\n",
      "15/15 [==============================] - 3s 196ms/step - loss: 0.0031 - mean_absolute_error: 0.0399 - val_loss: 0.0028 - val_mean_absolute_error: 0.0383\n",
      "Epoch 73/80\n",
      "15/15 [==============================] - 3s 207ms/step - loss: 0.0032 - mean_absolute_error: 0.0409 - val_loss: 0.0026 - val_mean_absolute_error: 0.0362\n",
      "Epoch 74/80\n",
      "15/15 [==============================] - 3s 199ms/step - loss: 0.0029 - mean_absolute_error: 0.0384 - val_loss: 0.0026 - val_mean_absolute_error: 0.0365\n",
      "Epoch 75/80\n",
      "15/15 [==============================] - 3s 187ms/step - loss: 0.0029 - mean_absolute_error: 0.0380 - val_loss: 0.0026 - val_mean_absolute_error: 0.0351\n",
      "Epoch 76/80\n",
      "15/15 [==============================] - 3s 185ms/step - loss: 0.0030 - mean_absolute_error: 0.0381 - val_loss: 0.0027 - val_mean_absolute_error: 0.0351\n",
      "Epoch 77/80\n",
      "15/15 [==============================] - 3s 201ms/step - loss: 0.0028 - mean_absolute_error: 0.0376 - val_loss: 0.0026 - val_mean_absolute_error: 0.0353\n",
      "Epoch 78/80\n",
      "15/15 [==============================] - 3s 187ms/step - loss: 0.0027 - mean_absolute_error: 0.0360 - val_loss: 0.0025 - val_mean_absolute_error: 0.0353\n",
      "Epoch 79/80\n",
      "15/15 [==============================] - 3s 187ms/step - loss: 0.0029 - mean_absolute_error: 0.0376 - val_loss: 0.0025 - val_mean_absolute_error: 0.0346\n",
      "Epoch 80/80\n",
      "15/15 [==============================] - 3s 206ms/step - loss: 0.0027 - mean_absolute_error: 0.0363 - val_loss: 0.0025 - val_mean_absolute_error: 0.0355\n"
     ]
    },
    {
     "data": {
      "text/plain": [
       "<keras.src.callbacks.History at 0x1a6efe5ed90>"
      ]
     },
     "execution_count": 18,
     "metadata": {},
     "output_type": "execute_result"
    }
   ],
   "source": [
    "# Train the model\n",
    "model.fit(train_seq, train_label, epochs=80, validation_data = (test_seq, test_label), verbose=1)"
   ]
  },
  {
   "cell_type": "markdown",
   "id": "74a0177d",
   "metadata": {},
   "source": [
    "#### Making Predictions "
   ]
  },
  {
   "cell_type": "code",
   "execution_count": 19,
   "id": "77f3117c",
   "metadata": {},
   "outputs": [
    {
     "name": "stdout",
     "output_type": "stream",
     "text": [
      "6/6 [==============================] - 5s 88ms/step\n"
     ]
    }
   ],
   "source": [
    "# Make predictions\n",
    "test_predict = model.predict(test_seq)"
   ]
  },
  {
   "cell_type": "code",
   "execution_count": 20,
   "id": "267eec6b",
   "metadata": {},
   "outputs": [],
   "source": [
    "# Inverse transform predictions to original scale\n",
    "\n",
    "test__inverse_predict = Ms.inverse_transform(test_predict)\n"
   ]
  },
  {
   "cell_type": "code",
   "execution_count": 31,
   "id": "b77a15c4",
   "metadata": {},
   "outputs": [
    {
     "name": "stdout",
     "output_type": "stream",
     "text": [
      "[[2.09465134e+02 1.31080523e-01 2.10973068e+02 2.12686508e+02\n",
      "  2.06395096e+02]\n",
      " [2.08261826e+02 1.33980036e-01 2.09758850e+02 2.11483322e+02\n",
      "  2.05235260e+02]\n",
      " [2.06011200e+02 1.39370143e-01 2.07569580e+02 2.09191132e+02\n",
      "  2.02931580e+02]\n",
      " [2.02471985e+02 1.47585213e-01 2.04151337e+02 2.05608551e+02\n",
      "  1.99316940e+02]\n",
      " [1.98985245e+02 1.52840152e-01 2.00749420e+02 2.02047348e+02\n",
      "  1.95721939e+02]\n",
      " [1.96948425e+02 1.62826136e-01 1.98872482e+02 2.00328690e+02\n",
      "  1.94018799e+02]\n",
      " [1.96835876e+02 2.11434618e-01 1.99732483e+02 2.01973953e+02\n",
      "  1.95532181e+02]\n",
      " [2.02708115e+02 1.98492751e-01 2.04698090e+02 2.06962204e+02\n",
      "  2.00902100e+02]\n",
      " [2.09262589e+02 1.73529938e-01 2.10193558e+02 2.12436356e+02\n",
      "  2.06516953e+02]\n",
      " [2.13819077e+02 1.50745884e-01 2.13843445e+02 2.15962128e+02\n",
      "  2.10099075e+02]\n",
      " [2.16506348e+02 1.31953195e-01 2.15837082e+02 2.17888107e+02\n",
      "  2.12078308e+02]\n",
      " [2.17959091e+02 1.19391389e-01 2.16901855e+02 2.18965195e+02\n",
      "  2.13196991e+02]\n",
      " [2.18278931e+02 1.14548065e-01 2.17140152e+02 2.19252991e+02\n",
      "  2.13495926e+02]\n",
      " [2.18718918e+02 1.13936052e-01 2.17680298e+02 2.19888794e+02\n",
      "  2.14114075e+02]\n",
      " [2.19690140e+02 1.21229522e-01 2.18961456e+02 2.21402283e+02\n",
      "  2.15535110e+02]\n",
      " [2.22876984e+02 1.22926816e-01 2.22292740e+02 2.24961716e+02\n",
      "  2.19025070e+02]\n",
      " [2.26956238e+02 1.28139764e-01 2.26568192e+02 2.29442841e+02\n",
      "  2.23350266e+02]\n",
      " [2.28253906e+02 1.39316440e-01 2.28061523e+02 2.30870621e+02\n",
      "  2.24540939e+02]\n",
      " [2.26192642e+02 1.40307769e-01 2.25941345e+02 2.28341858e+02\n",
      "  2.21765488e+02]\n",
      " [2.23619476e+02 1.34551108e-01 2.23308685e+02 2.25519974e+02\n",
      "  2.18689743e+02]\n",
      " [2.21063522e+02 1.25090703e-01 2.20757965e+02 2.22846024e+02\n",
      "  2.15877426e+02]\n",
      " [2.19259933e+02 1.17464185e-01 2.19081055e+02 2.21197113e+02\n",
      "  2.14208511e+02]\n",
      " [2.18799911e+02 1.09587520e-01 2.18758423e+02 2.20932510e+02\n",
      "  2.14053207e+02]\n",
      " [2.18973923e+02 1.06694371e-01 2.19152985e+02 2.21405060e+02\n",
      "  2.14673691e+02]\n",
      " [2.19101654e+02 1.08090654e-01 2.19507309e+02 2.21779053e+02\n",
      "  2.15193909e+02]\n",
      " [2.18334396e+02 1.09636799e-01 2.18922241e+02 2.21047089e+02\n",
      "  2.14553146e+02]\n",
      " [2.17014420e+02 1.10735051e-01 2.17753876e+02 2.19746201e+02\n",
      "  2.13282593e+02]\n",
      " [2.16094223e+02 1.16785668e-01 2.17067032e+02 2.19131744e+02\n",
      "  2.12636795e+02]\n",
      " [2.15484680e+02 1.35138869e-01 2.16871811e+02 2.19205978e+02\n",
      "  2.12601227e+02]\n",
      " [2.14237961e+02 1.48888916e-01 2.15833344e+02 2.18112701e+02\n",
      "  2.11426651e+02]\n",
      " [2.12653275e+02 1.53895646e-01 2.14242218e+02 2.16329300e+02\n",
      "  2.09544632e+02]\n",
      " [2.10496964e+02 1.46928519e-01 2.11868790e+02 2.13604385e+02\n",
      "  2.06766159e+02]\n",
      " [2.09056717e+02 1.34683222e-01 2.10166702e+02 2.11734024e+02\n",
      "  2.04923370e+02]\n",
      " [2.07814026e+02 1.22340716e-01 2.08725647e+02 2.10170731e+02\n",
      "  2.03493073e+02]\n",
      " [2.06956223e+02 1.14758536e-01 2.07784088e+02 2.09265991e+02\n",
      "  2.02790802e+02]\n",
      " [2.06640457e+02 1.13711342e-01 2.07491760e+02 2.09078796e+02\n",
      "  2.02830429e+02]\n",
      " [2.06270889e+02 1.13453843e-01 2.07139435e+02 2.08720383e+02\n",
      "  2.02679993e+02]\n",
      " [2.06939621e+02 1.15146056e-01 2.07827057e+02 2.09567825e+02\n",
      "  2.03682755e+02]\n",
      " [2.08024841e+02 1.19940668e-01 2.08927078e+02 2.10827515e+02\n",
      "  2.05053253e+02]\n",
      " [2.10749313e+02 1.42357513e-01 2.11964722e+02 2.14462219e+02\n",
      "  2.08616180e+02]\n",
      " [2.15606842e+02 1.57593518e-01 2.16832504e+02 2.19665527e+02\n",
      "  2.13708542e+02]\n",
      " [2.22340210e+02 1.53947532e-01 2.23126984e+02 2.26002060e+02\n",
      "  2.19904373e+02]\n",
      " [2.29481354e+02 1.44271523e-01 2.29734421e+02 2.32643982e+02\n",
      "  2.26357681e+02]\n",
      " [2.35766663e+02 1.42094642e-01 2.35716415e+02 2.38770203e+02\n",
      "  2.32191315e+02]\n",
      " [2.41877792e+02 1.31570294e-01 2.41389816e+02 2.44345337e+02\n",
      "  2.37592087e+02]\n",
      " [2.46653259e+02 1.25324845e-01 2.45938507e+02 2.48857407e+02\n",
      "  2.41924622e+02]\n",
      " [2.49650513e+02 1.23154044e-01 2.48842270e+02 2.51734329e+02\n",
      "  2.44658249e+02]\n",
      " [2.51097885e+02 1.25231162e-01 2.50352112e+02 2.53263580e+02\n",
      "  2.46025497e+02]\n",
      " [2.50712585e+02 1.29687428e-01 2.50081696e+02 2.53014236e+02\n",
      "  2.45637009e+02]\n",
      " [2.49178558e+02 1.30058572e-01 2.48655457e+02 2.51507172e+02\n",
      "  2.44027267e+02]\n",
      " [2.47270691e+02 1.36531636e-01 2.47052078e+02 2.50065674e+02\n",
      "  2.42422226e+02]\n",
      " [2.46160309e+02 1.46609038e-01 2.46365891e+02 2.49665543e+02\n",
      "  2.41793716e+02]\n",
      " [2.47290283e+02 1.43744528e-01 2.47658325e+02 2.50953262e+02\n",
      "  2.43010132e+02]\n",
      " [2.48150986e+02 1.38410777e-01 2.48629944e+02 2.51754562e+02\n",
      "  2.43828003e+02]\n",
      " [2.48878815e+02 1.34906203e-01 2.49496246e+02 2.52507065e+02\n",
      "  2.44601410e+02]\n",
      " [2.48833237e+02 1.36302635e-01 2.49620071e+02 2.52569000e+02\n",
      "  2.44690628e+02]\n",
      " [2.47538040e+02 1.44144267e-01 2.48581085e+02 2.51529129e+02\n",
      "  2.43593613e+02]\n",
      " [2.47143112e+02 1.62373692e-01 2.48645584e+02 2.51966415e+02\n",
      "  2.43752151e+02]\n",
      " [2.48549042e+02 1.72134161e-01 2.50278824e+02 2.53746704e+02\n",
      "  2.45306610e+02]\n",
      " [2.52325455e+02 1.81663290e-01 2.54266464e+02 2.58028168e+02\n",
      "  2.49250580e+02]\n",
      " [2.55033051e+02 2.02817932e-01 2.57267883e+02 2.61315918e+02\n",
      "  2.52055115e+02]\n",
      " [2.53126175e+02 2.21219733e-01 2.55291138e+02 2.59127655e+02\n",
      "  2.49548630e+02]\n",
      " [2.50245422e+02 2.46955514e-01 2.52612457e+02 2.56786682e+02\n",
      "  2.46606110e+02]\n",
      " [2.45893097e+02 2.78662294e-01 2.48695831e+02 2.53123505e+02\n",
      "  2.42292435e+02]\n",
      " [2.40552399e+02 2.69528985e-01 2.42764496e+02 2.46259628e+02\n",
      "  2.35570877e+02]\n",
      " [2.36916077e+02 2.32161805e-01 2.38192810e+02 2.40782150e+02\n",
      "  2.30586319e+02]\n",
      " [2.34031982e+02 1.92604631e-01 2.34645462e+02 2.36598297e+02\n",
      "  2.27064545e+02]\n",
      " [2.32285873e+02 1.58796981e-01 2.32542938e+02 2.34150208e+02\n",
      "  2.25394180e+02]\n",
      " [2.29067352e+02 1.40139192e-01 2.29335632e+02 2.30572250e+02\n",
      "  2.22591171e+02]\n",
      " [2.27817062e+02 1.28663003e-01 2.28254730e+02 2.29516357e+02\n",
      "  2.22153427e+02]\n",
      " [2.29502914e+02 1.18216150e-01 2.30035736e+02 2.31477158e+02\n",
      "  2.24651108e+02]\n",
      " [2.32014526e+02 1.16500318e-01 2.32733856e+02 2.34322800e+02\n",
      "  2.27857895e+02]\n",
      " [2.32618134e+02 1.21427894e-01 2.33518021e+02 2.34980377e+02\n",
      "  2.28699997e+02]\n",
      " [2.30684769e+02 1.27372235e-01 2.31665573e+02 2.32879272e+02\n",
      "  2.26608673e+02]\n",
      " [2.27303009e+02 1.31458938e-01 2.28313522e+02 2.29375107e+02\n",
      "  2.22964600e+02]\n",
      " [2.23247421e+02 1.31807625e-01 2.24248474e+02 2.25219086e+02\n",
      "  2.18631470e+02]\n",
      " [2.19369797e+02 1.32123202e-01 2.20424683e+02 2.21448563e+02\n",
      "  2.14671249e+02]\n",
      " [2.15017487e+02 1.30445510e-01 2.16149033e+02 2.17084030e+02\n",
      "  2.10162979e+02]\n",
      " [2.11490814e+02 1.32262588e-01 2.12766251e+02 2.13839417e+02\n",
      "  2.06817825e+02]\n",
      " [2.08900620e+02 1.27464801e-01 2.10129715e+02 2.11224304e+02\n",
      "  2.04231461e+02]\n",
      " [2.06564026e+02 1.24809042e-01 2.07815323e+02 2.08939499e+02\n",
      "  2.01981308e+02]\n",
      " [2.04598022e+02 1.25585437e-01 2.05875458e+02 2.07074783e+02\n",
      "  2.00219223e+02]\n",
      " [2.02731308e+02 1.31314009e-01 2.04109238e+02 2.05396881e+02\n",
      "  1.98628067e+02]\n",
      " [1.99770142e+02 1.34470135e-01 2.01160995e+02 2.02287445e+02\n",
      "  1.95603210e+02]\n",
      " [1.95982010e+02 1.36311531e-01 1.97394150e+02 1.98357651e+02\n",
      "  1.91669968e+02]\n",
      " [1.93498322e+02 1.39876306e-01 1.94910553e+02 1.96049835e+02\n",
      "  1.89402588e+02]\n",
      " [1.92490204e+02 1.36001438e-01 1.93678329e+02 1.94947250e+02\n",
      "  1.88445435e+02]\n",
      " [1.91574310e+02 1.35490641e-01 1.92615341e+02 1.94001038e+02\n",
      "  1.87649094e+02]\n",
      " [1.89846710e+02 1.36009470e-01 1.90745239e+02 1.92101410e+02\n",
      "  1.85897537e+02]\n",
      " [1.86934616e+02 1.36763871e-01 1.87740707e+02 1.88976151e+02\n",
      "  1.82836548e+02]\n",
      " [1.84515381e+02 1.36945873e-01 1.85231155e+02 1.86496765e+02\n",
      "  1.80417328e+02]\n",
      " [1.82218719e+02 1.34175569e-01 1.82796280e+02 1.84041092e+02\n",
      "  1.78059082e+02]\n",
      " [1.78984619e+02 1.27266482e-01 1.79452484e+02 1.80506653e+02\n",
      "  1.74515579e+02]\n",
      " [1.76482330e+02 1.20414175e-01 1.76838806e+02 1.77970779e+02\n",
      "  1.72025970e+02]\n",
      " [1.73855194e+02 1.18591286e-01 1.74174286e+02 1.75384018e+02\n",
      "  1.69589386e+02]\n",
      " [1.70940002e+02 1.19140990e-01 1.71294922e+02 1.72486969e+02\n",
      "  1.66801102e+02]\n",
      " [1.67713623e+02 1.24208570e-01 1.68164566e+02 1.69355347e+02\n",
      "  1.63786758e+02]\n",
      " [1.65310089e+02 1.43064588e-01 1.65976608e+02 1.67294418e+02\n",
      "  1.62056290e+02]\n",
      " [1.63209167e+02 1.56758606e-01 1.63907166e+02 1.65119324e+02\n",
      "  1.60183472e+02]\n",
      " [1.61617020e+02 1.62350222e-01 1.62102463e+02 1.63203552e+02\n",
      "  1.58505569e+02]\n",
      " [1.61086258e+02 1.65236548e-01 1.61220901e+02 1.62446350e+02\n",
      "  1.58000366e+02]\n",
      " [1.62934311e+02 1.65538877e-01 1.62486481e+02 1.64168976e+02\n",
      "  1.60154266e+02]\n",
      " [1.66414902e+02 1.54006317e-01 1.65112976e+02 1.67260208e+02\n",
      "  1.63594009e+02]\n",
      " [1.71049759e+02 1.48137167e-01 1.69071533e+02 1.71784531e+02\n",
      "  1.68406906e+02]\n",
      " [1.77005890e+02 1.40768617e-01 1.74376648e+02 1.77587082e+02\n",
      "  1.74405182e+02]\n",
      " [1.83417648e+02 1.33331478e-01 1.80219818e+02 1.83820724e+02\n",
      "  1.80705246e+02]\n",
      " [1.88543198e+02 1.24034822e-01 1.84964035e+02 1.88652725e+02\n",
      "  1.85305145e+02]\n",
      " [1.91665543e+02 1.21826984e-01 1.88026489e+02 1.91751358e+02\n",
      "  1.88012436e+02]\n",
      " [1.93470367e+02 1.20042406e-01 1.89917313e+02 1.93588501e+02\n",
      "  1.89386765e+02]\n",
      " [1.95042450e+02 1.21149763e-01 1.91712448e+02 1.95416855e+02\n",
      "  1.90810074e+02]\n",
      " [1.96953384e+02 1.16375640e-01 1.93787460e+02 1.97431381e+02\n",
      "  1.92483994e+02]\n",
      " [1.99222870e+02 1.11204214e-01 1.96260696e+02 1.99893723e+02\n",
      "  1.94685226e+02]\n",
      " [2.00462387e+02 1.08614601e-01 1.97771423e+02 2.01296768e+02\n",
      "  1.95851562e+02]\n",
      " [2.00551056e+02 1.15238868e-01 1.98293076e+02 2.01780609e+02\n",
      "  1.96114243e+02]\n",
      " [2.01913879e+02 1.16601221e-01 1.99944794e+02 2.03441299e+02\n",
      "  1.97645157e+02]\n",
      " [2.02367981e+02 1.21116728e-01 2.00730240e+02 2.04129242e+02\n",
      "  1.98192596e+02]\n",
      " [2.02779648e+02 1.28641441e-01 2.01451614e+02 2.04867004e+02\n",
      "  1.98831497e+02]\n",
      " [2.03783401e+02 1.29187658e-01 2.02615997e+02 2.05951218e+02\n",
      "  1.99815781e+02]\n",
      " [2.05540131e+02 1.23090476e-01 2.04397324e+02 2.07643997e+02\n",
      "  2.01454453e+02]\n",
      " [2.07020569e+02 1.19857542e-01 2.05965607e+02 2.09161423e+02\n",
      "  2.02925232e+02]\n",
      " [2.09193314e+02 1.15315840e-01 2.08204193e+02 2.11349213e+02\n",
      "  2.05111786e+02]\n",
      " [2.11092834e+02 1.11783557e-01 2.10204865e+02 2.13214188e+02\n",
      "  2.06991928e+02]\n",
      " [2.13158325e+02 1.10091411e-01 2.12418213e+02 2.15367859e+02\n",
      "  2.09170868e+02]\n",
      " [2.16072968e+02 1.06884718e-01 2.15439316e+02 2.18370651e+02\n",
      "  2.12229828e+02]\n",
      " [2.18993546e+02 1.16742969e-01 2.18686798e+02 2.21810089e+02\n",
      "  2.15622696e+02]\n",
      " [2.25051498e+02 1.11306831e-01 2.24719269e+02 2.27861679e+02\n",
      "  2.21722031e+02]\n",
      " [2.29975586e+02 1.10226721e-01 2.29708679e+02 2.32714981e+02\n",
      "  2.26522232e+02]\n",
      " [2.32010437e+02 1.09988317e-01 2.31724823e+02 2.34441605e+02\n",
      "  2.28170593e+02]\n",
      " [2.31303055e+02 1.10639654e-01 2.31036591e+02 2.33524139e+02\n",
      "  2.27105713e+02]\n",
      " [2.29992737e+02 1.04743838e-01 2.29713089e+02 2.32014847e+02\n",
      "  2.25505524e+02]\n",
      " [2.28648804e+02 9.94050801e-02 2.28497940e+02 2.30741882e+02\n",
      "  2.24186340e+02]\n",
      " [2.28013336e+02 9.51194167e-02 2.28079117e+02 2.30325104e+02\n",
      "  2.23794189e+02]\n",
      " [2.27681931e+02 9.17392746e-02 2.27987671e+02 2.30167206e+02\n",
      "  2.23724274e+02]\n",
      " [2.27285706e+02 9.37539935e-02 2.27916962e+02 2.30079498e+02\n",
      "  2.23697876e+02]\n",
      " [2.27472763e+02 9.74010974e-02 2.28392395e+02 2.30581665e+02\n",
      "  2.24251587e+02]\n",
      " [2.26354980e+02 1.08659945e-01 2.27585892e+02 2.29789093e+02\n",
      "  2.23443314e+02]\n",
      " [2.23426636e+02 1.13390028e-01 2.24810043e+02 2.26727570e+02\n",
      "  2.20315399e+02]\n",
      " [2.19941452e+02 1.15313776e-01 2.21456421e+02 2.23195465e+02\n",
      "  2.16675430e+02]\n",
      " [2.17882401e+02 1.14277795e-01 2.19505951e+02 2.21263916e+02\n",
      "  2.14685776e+02]\n",
      " [2.17972595e+02 1.05663896e-01 2.19526428e+02 2.21300766e+02\n",
      "  2.14832001e+02]\n",
      " [2.18414291e+02 1.01437330e-01 2.19973938e+02 2.21786621e+02\n",
      "  2.15458176e+02]\n",
      " [2.19490082e+02 9.79564115e-02 2.21013367e+02 2.22854355e+02\n",
      "  2.16688278e+02]\n",
      " [2.21403488e+02 9.62060317e-02 2.22869812e+02 2.24784378e+02\n",
      "  2.18777405e+02]\n",
      " [2.23367889e+02 9.55577344e-02 2.24773560e+02 2.26706955e+02\n",
      "  2.20808594e+02]\n",
      " [2.25681366e+02 9.67362002e-02 2.27033997e+02 2.29048996e+02\n",
      "  2.23191360e+02]\n",
      " [2.27728638e+02 9.97452736e-02 2.29046295e+02 2.31098969e+02\n",
      "  2.25208832e+02]\n",
      " [2.29059784e+02 1.05629757e-01 2.30354233e+02 2.32451782e+02\n",
      "  2.26469681e+02]\n",
      " [2.29002335e+02 1.09533355e-01 2.30245682e+02 2.32242157e+02\n",
      "  2.26126984e+02]\n",
      " [2.28304276e+02 1.09363869e-01 2.29442719e+02 2.31366150e+02\n",
      "  2.25130005e+02]\n",
      " [2.26155640e+02 1.14691630e-01 2.27329788e+02 2.29262527e+02\n",
      "  2.22878235e+02]\n",
      " [2.22128815e+02 1.16793498e-01 2.23343704e+02 2.25036926e+02\n",
      "  2.18524734e+02]\n",
      " [2.18474106e+02 1.14974149e-01 2.19754135e+02 2.21356186e+02\n",
      "  2.14754456e+02]\n",
      " [2.16560669e+02 1.15379833e-01 2.17983368e+02 2.19784470e+02\n",
      "  2.13173126e+02]\n",
      " [2.16152359e+02 1.08996443e-01 2.17558609e+02 2.19349289e+02\n",
      "  2.12867096e+02]\n",
      " [2.15197723e+02 1.04978107e-01 2.16612122e+02 2.18300461e+02\n",
      "  2.11973816e+02]\n",
      " [2.13602371e+02 1.01647057e-01 2.15038269e+02 2.16584824e+02\n",
      "  2.10373978e+02]\n",
      " [2.11294647e+02 1.01088181e-01 2.12786591e+02 2.14216461e+02\n",
      "  2.08102646e+02]\n",
      " [2.09183838e+02 1.02967069e-01 2.10794861e+02 2.12225449e+02\n",
      "  2.06156662e+02]\n",
      " [2.08936905e+02 1.01200201e-01 2.10545959e+02 2.12090591e+02\n",
      "  2.06121902e+02]\n",
      " [2.09816727e+02 9.99439061e-02 2.11377655e+02 2.13070175e+02\n",
      "  2.07239548e+02]\n",
      " [2.11526291e+02 1.03737667e-01 2.13092209e+02 2.14990768e+02\n",
      "  2.09246536e+02]\n",
      " [2.15510162e+02 1.04586869e-01 2.16937073e+02 2.19097733e+02\n",
      "  2.13442566e+02]\n",
      " [2.20057755e+02 1.01316199e-01 2.21230682e+02 2.23430161e+02\n",
      "  2.17837509e+02]\n",
      " [2.23630768e+02 1.06526382e-01 2.24717972e+02 2.27000458e+02\n",
      "  2.21323380e+02]\n",
      " [2.25172195e+02 1.43714532e-01 2.26774796e+02 2.29620758e+02\n",
      "  2.23487732e+02]\n",
      " [2.21539536e+02 1.74673975e-01 2.23409805e+02 2.25956055e+02\n",
      "  2.19327591e+02]\n",
      " [2.17794022e+02 1.77468762e-01 2.19371964e+02 2.21514923e+02\n",
      "  2.14529892e+02]\n",
      " [2.13912277e+02 1.70393363e-01 2.15220581e+02 2.17080383e+02\n",
      "  2.09824356e+02]\n",
      " [2.11736252e+02 1.48526251e-01 2.12604782e+02 2.14217834e+02\n",
      "  2.06976120e+02]\n",
      " [2.10265472e+02 1.28496468e-01 2.10868164e+02 2.12396652e+02\n",
      "  2.05354019e+02]\n",
      " [2.09573303e+02 1.14860058e-01 2.10081711e+02 2.11656128e+02\n",
      "  2.04935333e+02]\n",
      " [2.09491928e+02 1.05501235e-01 2.09972656e+02 2.11587479e+02\n",
      "  2.05252792e+02]\n",
      " [2.09343796e+02 1.04047455e-01 2.09952774e+02 2.11617249e+02\n",
      "  2.05590775e+02]\n",
      " [2.09371490e+02 1.01414241e-01 2.10032364e+02 2.11633789e+02\n",
      "  2.05862961e+02]\n",
      " [2.09201920e+02 1.04053557e-01 2.10007324e+02 2.11613754e+02\n",
      "  2.05974106e+02]\n",
      " [2.10637222e+02 1.40308782e-01 2.12135422e+02 2.14604736e+02\n",
      "  2.08855911e+02]\n",
      " [2.15333206e+02 1.39526606e-01 2.16499222e+02 2.18976852e+02\n",
      "  2.13301392e+02]\n",
      " [2.19264343e+02 1.36911333e-01 2.20118500e+02 2.22538574e+02\n",
      "  2.16725037e+02]]\n"
     ]
    }
   ],
   "source": [
    "print(test__inverse_predict)"
   ]
  },
  {
   "cell_type": "markdown",
   "id": "f2d325be",
   "metadata": {},
   "source": [
    "### Visualizing the predicted and Actual values"
   ]
  },
  {
   "cell_type": "code",
   "execution_count": 33,
   "id": "3dfb140b",
   "metadata": {},
   "outputs": [],
   "source": [
    "# Compute the actual values for the entire test set\n",
    "test__inverse_actual = Ms.inverse_transform(test_label)"
   ]
  },
  {
   "cell_type": "code",
   "execution_count": 35,
   "id": "4e18bceb",
   "metadata": {},
   "outputs": [],
   "source": [
    "import matplotlib.pyplot as plt"
   ]
  },
  {
   "cell_type": "code",
   "execution_count": 40,
   "id": "3876cdea",
   "metadata": {},
   "outputs": [
    {
     "data": {
      "image/png": "[encoded data removed]",
      "text/plain": [
       "<Figure size 2000x600 with 1 Axes>"
      ]
     },
     "metadata": {},
     "output_type": "display_data"
    }
   ],
   "source": [
    "# Plot the actual and predicted values\n",
    "plt.figure(figsize=(20,6))\n",
    "\n",
    "plt.plot(test__inverse_actual, label='Actual values')\n",
    "plt.plot(test__inverse_predict, label='Predicted values', marker='o')\n",
    "plt.legend()\n",
    "plt.xlabel('Time step')\n",
    "plt.ylabel('Value')\n",
    "plt.title('Actual vs Predicted Values')\n",
    "plt.show()"
   ]
  },
  {
   "cell_type": "markdown",
   "id": "81595154",
   "metadata": {},
   "source": [
    "#### Observation:\n",
    "Here we can see that the predicted values are almost similar or we can say close to the actual values, which also says the accuracy of the model made."
   ]
  },
  {
   "cell_type": "markdown",
   "id": "38f7d933",
   "metadata": {},
   "source": [
    "### Checking Accuracy of the Model"
   ]
  },
  {
   "cell_type": "code",
   "execution_count": 30,
   "id": "be0094d7",
   "metadata": {},
   "outputs": [
    {
     "name": "stdout",
     "output_type": "stream",
     "text": [
      "Test set mean absolute error: 0.035463512040562126\n"
     ]
    }
   ],
   "source": [
    "# print(test__inverse_predict)\n",
    "# Compute the mean absolute error on the test set\n",
    "test_mae = mean_absolute_error(test_label, test_predict)\n",
    "print(f'Test set mean absolute error: {test_mae}')"
   ]
  },
  {
   "cell_type": "code",
   "execution_count": 22,
   "id": "58f13a2b",
   "metadata": {},
   "outputs": [],
   "source": [
    "from sklearn.model_selection import TimeSeriesSplit"
   ]
  },
  {
   "cell_type": "markdown",
   "id": "803679aa",
   "metadata": {},
   "source": [
    "For making it a Time series Model"
   ]
  },
  {
   "cell_type": "code",
   "execution_count": 23,
   "id": "41a3b6af",
   "metadata": {},
   "outputs": [],
   "source": [
    "# Calculate the Mean Absolute Error and Mean Squared Error\n",
    "from sklearn.metrics import mean_absolute_error, mean_squared_error\n",
    "from sklearn.model_selection import cross_val_score"
   ]
  },
  {
   "cell_type": "code",
   "execution_count": 24,
   "id": "1c47d8d8",
   "metadata": {},
   "outputs": [],
   "source": [
    "# Define the cross-validation strategy\n",
    "tscv = TimeSeriesSplit(n_splits=5)\n",
    "\n",
    "# Define the scoring function\n",
    "def scoring_mae(test_label, test__inverse_predict):\n",
    "    return -mean_absolute_error(test_label, test__inverse_predict)\n"
   ]
  },
  {
   "cell_type": "markdown",
   "id": "03f9b57c",
   "metadata": {},
   "source": [
    "#### Performing Cross-Validation between actual and predicted value"
   ]
  },
  {
   "cell_type": "code",
   "execution_count": 25,
   "id": "455e8fcd",
   "metadata": {
    "scrolled": false
   },
   "outputs": [
    {
     "name": "stdout",
     "output_type": "stream",
     "text": [
      "3/3 [==============================] - 0s 111ms/step\n",
      "3/3 [==============================] - 0s 80ms/step\n",
      "6/6 [==============================] - 0s 56ms/step\n",
      "3/3 [==============================] - 1s 103ms/step\n",
      "8/8 [==============================] - 1s 72ms/step\n",
      "3/3 [==============================] - 0s 81ms/step\n",
      "11/11 [==============================] - 1s 57ms/step\n",
      "3/3 [==============================] - 1s 133ms/step\n",
      "13/13 [==============================] - 1s 88ms/step\n",
      "3/3 [==============================] - 0s 65ms/step\n",
      "Cross-validation score: 0.0475383543054973\n"
     ]
    }
   ],
   "source": [
    "# Perform cross-validation\n",
    "cv_scores = []\n",
    "for train_index, val_index in tscv.split(train_seq):\n",
    "    X_train_fold, X_val_fold = train_seq[train_index], train_seq[val_index]\n",
    "    y_train_fold, y_val_fold = train_label[train_index], train_label[val_index]\n",
    "\n",
    "    # Train the model on the current fold\n",
    "    model.fit(X_train_fold, y_train_fold, epochs=1, batch_size=1, verbose=0)\n",
    "\n",
    "    # Evaluate the model on the current fold\n",
    "    y_pred_fold = model.predict(X_val_fold)\n",
    "    y_pred_fold = np.squeeze(y_pred_fold)  # remove extra dimensions\n",
    "    mae_fold = mean_absolute_error(y_val_fold, y_pred_fold)\n",
    "    cv_scores.append(mae_fold)\n",
    "\n",
    "# Calculate the average cross-validation score\n",
    "cv_score = np.mean(cv_scores)\n",
    "print(f'Cross-validation score: {cv_score}')"
   ]
  }
 ],
 "metadata": {
  "kernelspec": {
   "display_name": "Python 3 (ipykernel)",
   "language": "python",
   "name": "python3"
  },
  "language_info": {
   "codemirror_mode": {
    "name": "ipython",
    "version": 3
   },
   "file_extension": ".py",
   "mimetype": "text/x-python",
   "name": "python",
   "nbconvert_exporter": "python",
   "pygments_lexer": "ipython3",
   "version": "3.9.13"
  }
 },
 "nbformat": 4,
 "nbformat_minor": 5
}
